{
 "cells": [
  {
   "cell_type": "markdown",
   "id": "95502d42-265c-4b07-876a-533eee6016e0",
   "metadata": {
    "tags": []
   },
   "source": [
    "# Mean variance analysis"
   ]
  },
  {
   "cell_type": "markdown",
   "id": "51bc86eb-3134-4e0f-aaed-349c5384cccc",
   "metadata": {
    "tags": []
   },
   "source": [
    "## 1. Install package and load data"
   ]
  },
  {
   "cell_type": "markdown",
   "id": "abf1a0c6-1000-41d2-8f57-b1e14ddce874",
   "metadata": {},
   "source": [
    "Install the package 'fPortfolio' that we will use extensively for portfolio construction and backtesting. The documentation can be found here: \n",
    "https://www.rdocumentation.org/packages/fPortfolio/versions/3042.83.1.\n",
    "You can also download the following book where it explains how to use the package, including a lot of relevant information regarding models and applications:\n",
    "https://www.rmetrics.org/ebooks-portfolio."
   ]
  },
  {
   "cell_type": "code",
   "execution_count": null,
   "id": "284f192c",
   "metadata": {},
   "outputs": [],
   "source": []
  },
  {
   "cell_type": "code",
   "execution_count": 7,
   "id": "7a8c204a-e37b-4951-8f9f-f8bd35dc37b5",
   "metadata": {},
   "outputs": [
    {
     "ename": "NameError",
     "evalue": "name 'install' is not defined",
     "output_type": "error",
     "traceback": [
      "\u001b[0;31m---------------------------------------------------------------------------\u001b[0m",
      "\u001b[0;31mNameError\u001b[0m                                 Traceback (most recent call last)",
      "Input \u001b[0;32mIn [7]\u001b[0m, in \u001b[0;36m<cell line: 1>\u001b[0;34m()\u001b[0m\n\u001b[0;32m----> 1\u001b[0m \u001b[43minstall\u001b[49m\u001b[38;5;241m.\u001b[39mpackages(\u001b[38;5;124m'\u001b[39m\u001b[38;5;124mfPortfolio\u001b[39m\u001b[38;5;124m'\u001b[39m)\n\u001b[1;32m      2\u001b[0m library(\u001b[38;5;124m'\u001b[39m\u001b[38;5;124mfPortfolio\u001b[39m\u001b[38;5;124m'\u001b[39m)\n",
      "\u001b[0;31mNameError\u001b[0m: name 'install' is not defined"
     ]
    }
   ],
   "source": [
    "\n",
    "install.packages('fPortfolio')\n",
    "library('fPortfolio')\n"
   ]
  },
  {
   "cell_type": "markdown",
   "id": "79dcc654-9c3e-4413-94e9-eb76ec4b188b",
   "metadata": {},
   "source": [
    "Load a test data set to perform some analysis. The data contains the time series of the following monthly returns in percentages:\n",
    "- Mkt: Market return\n",
    "- Rf: Risk-free return\n",
    "- Bnds10: Return on 10-year treasure bonds\n",
    "- Cnsmr: Return on consumer goods industry portfolio\n",
    "- Manuf: Return on manufacturing goods industry portfolio\n",
    "- HiTec: Return on high-tech industry portfolio\n",
    "- Hlth: Return on health industry portfolio\n",
    "- Other: Return on other industry portfolio\n",
    "- SMB: Return on SMB factor portfolio\n",
    "- HML: Return on HML factor portfolio\n",
    "- MOM: Return on momentum factor portfolio\n",
    "\n",
    "The first column contains the date of the returns."
   ]
  },
  {
   "cell_type": "code",
   "execution_count": 8,
   "id": "7e27ebff-e8f9-4d4c-8239-967e3e6e1d43",
   "metadata": {},
   "outputs": [
    {
     "ename": "ERROR",
     "evalue": "Error in read(\"test_data.csv\", header = TRUE, sep = \",\", format = \"%Y-%m-%d\"): non trovo la funzione \"read\"\n",
     "output_type": "error",
     "traceback": [
      "Error in read(\"test_data.csv\", header = TRUE, sep = \",\", format = \"%Y-%m-%d\"): non trovo la funzione \"read\"\nTraceback:\n"
     ]
    }
   ],
   "source": [
    "rm(list=ls())              #clear the workspace\n",
    "# data <- readSeries(file.choose(), header = TRUE, sep = \",\", format = \"%Y-%m-%d\")\n",
    "all_data <- read(\"test_data.csv\", header = TRUE, sep = \",\", format = \"%Y-%m-%d\")"
   ]
  },
  {
   "cell_type": "markdown",
   "id": "a5160a5e-7ca2-4ce9-8043-1ca21f4099b9",
   "metadata": {},
   "source": [
    " We will consider portfolios of the five industries and the bonds, with or without a risk-free rate. So let us choose columns 3 to 8 from the dataset."
   ]
  },
  {
   "cell_type": "code",
   "execution_count": 3,
   "id": "0ba40343-d93d-4fea-9e74-3d2ff2cc303b",
   "metadata": {},
   "outputs": [
    {
     "ename": "ERROR",
     "evalue": "Error in eval(expr, envir, enclos): oggetto \"all_data\" non trovato\n",
     "output_type": "error",
     "traceback": [
      "Error in eval(expr, envir, enclos): oggetto \"all_data\" non trovato\nTraceback:\n"
     ]
    }
   ],
   "source": [
    "data_ret <- all_data[,3:8];\n",
    "data_rf <- all_data[,2];                           #risk-free rate data\n",
    "data_eret <- sweep(data_ret, 1, data_rf, \"-\")      #compute excess returns"
   ]
  },
  {
   "cell_type": "markdown",
   "id": "eb33fdfe-f9bf-4502-979f-17713e8e0fc6",
   "metadata": {
    "tags": []
   },
   "source": [
    "## 2. Portfolio analysis"
   ]
  },
  {
   "cell_type": "markdown",
   "id": "f05f5ddd-81aa-4c8f-a4a9-10f58e5c14f2",
   "metadata": {},
   "source": [
    "Let us start with analyzing the properties of an equally weighted portfolio. We specify the portfolio and then set all weights to 1/n where n is the number of assets (nAssets)."
   ]
  },
  {
   "cell_type": "code",
   "execution_count": null,
   "id": "f8c3a63d-f065-49b4-aacb-c8d9eb66b8fc",
   "metadata": {},
   "outputs": [],
   "source": [
    "ewSpec <- portfolioSpec()\n",
    "nAssets <- ncol(data_ret)                              #number of assets\n",
    "aNames <- colnames(data_ret)                           #store the asset names\n",
    "setWeights(ewSpec) <- rep(1/nAssets, times = nAssets)\n",
    "print(ewSpec)"
   ]
  },
  {
   "cell_type": "markdown",
   "id": "90c19e78-cbdf-42fd-b408-faecdc0cddf7",
   "metadata": {},
   "source": [
    "We will now compute the properties of the portfolio, i.e., the mean, standard deviation, CVaR and VaR risk measures, and other statistics."
   ]
  },
  {
   "cell_type": "code",
   "execution_count": null,
   "id": "5141a3b9-ca20-4eac-a6f0-f61b35cc4e2a",
   "metadata": {},
   "outputs": [],
   "source": [
    "ewPortfolio <- feasiblePortfolio(data = data_ret, spec = ewSpec)\n",
    "print(ewPortfolio)"
   ]
  },
  {
   "cell_type": "markdown",
   "id": "859f8b50-7345-4766-8402-c90ad3fd43bc",
   "metadata": {},
   "source": [
    "Let us compute the raw Sharpe ratio of the portfolio by getting the mean and standard deviation of the portfolio."
   ]
  },
  {
   "cell_type": "code",
   "execution_count": null,
   "id": "49f1c2a2-4c76-4491-ac45-1f23066c74d5",
   "metadata": {},
   "outputs": [],
   "source": [
    "mean_ew <- getTargetReturn(ewPortfolio)[\"mean\"]\n",
    "std_ew <- getTargetRisk(ewPortfolio)[\"Sigma\"]\n",
    "rSR_ew <- mean_ew[1] / std_ew[1]\n",
    "names(rSR_ew) <- 'raw SR'                       #change the name of the numbe\n",
    "rSR_ew"
   ]
  },
  {
   "cell_type": "markdown",
   "id": "caef7a8c-2f9c-4caf-ae0d-14d09010ee50",
   "metadata": {
    "tags": []
   },
   "source": [
    "## 3. Tangent portfolio"
   ]
  },
  {
   "cell_type": "markdown",
   "id": "3451971d-51fc-4dbf-b187-4cd33034d5dc",
   "metadata": {},
   "source": [
    "### Unconstrained\n",
    "\n",
    "Now we will compute the unconstrained tangent portfolio, i.e. the efficient portfolio of risky assets with the highest Sharpe ratio where we are allowed to take unlimited short positions. Since this problem can be solved in closed form, we need to change the solver. \n",
    "\n",
    "The most appropriate approach is to compute the mean vector and the covariance matrix of excess returns. This is because computing the covariance matrix with the raw returns it also includes the covariation that arises from the variation in the risk-free rate. So we want to remove it. Therefore we use the excess returns (data_eret) instead of the raw returns (data_ret). \n",
    "\n",
    "Note that we do not need to specify the risk-free rate whose default value is zero. The risk-free rate only affects the mean return of the portfolio. To specify the risk-free rate other than zero, e.g. 0.1, we need to use the command 'setRiskFreeRate(portSpec) <- 0.1'."
   ]
  },
  {
   "cell_type": "code",
   "execution_count": null,
   "id": "adaf6774-6a5d-404c-811e-7d3357a6c3b8",
   "metadata": {},
   "outputs": [],
   "source": [
    "shortSpec <- portfolioSpec()\n",
    "setSolver(shortSpec) <- \"solveRshortExact\"\n",
    "unctgPortfolio <- tangencyPortfolio(data = data_eret, spec = shortSpec)\n",
    "print(getWeights(unctgPortfolio))"
   ]
  },
  {
   "cell_type": "markdown",
   "id": "d9fdaada-6293-4310-981a-d5b3c2c0c88e",
   "metadata": {},
   "source": [
    "We will now compute the portfolio ourselves from the mean vector and the covariance matrix to see that we obtain the same result."
   ]
  },
  {
   "cell_type": "code",
   "execution_count": null,
   "id": "c84a8483-91dd-437e-bc72-83f773920500",
   "metadata": {},
   "outputs": [],
   "source": [
    "Sigma <- cov(data_eret)       #covariance matrix of excess returns\n",
    "Mu <- colMeans(data_eret)     #mean vector of excess returns\n",
    "w <- c(inv(Sigma) %*% Mu)     #call the operation inside c() to make it a vector\n",
    "w <- w / sum(w)               #normalize for the weights to sum to one\n",
    "names(w) <- aNames\n",
    "print(w)"
   ]
  },
  {
   "cell_type": "markdown",
   "id": "2aa864a1-b288-4dff-9e86-1f120ed48a9e",
   "metadata": {},
   "source": [
    "We also compute the mean excess returns, the standard deviation of excess returns, and the Sharpe ratio of the tangent portfolio."
   ]
  },
  {
   "cell_type": "code",
   "execution_count": null,
   "id": "680bc9f5-56f9-4aa2-9df0-e9fd0dbf5780",
   "metadata": {},
   "outputs": [],
   "source": [
    "port_stats <- c(w %*% Mu, sqrt(w %*% Sigma %*% w), 0)\n",
    "port_stats[3] <- port_stats[1] / port_stats[2]\n",
    "names(port_stats) <- c('Avg(e-ret)', 'Std(e-ret)', 'Sharpe ratio')\n",
    "print(port_stats)"
   ]
  },
  {
   "cell_type": "markdown",
   "id": "13466ddd-c322-4906-86fa-1ed3c353e207",
   "metadata": {},
   "source": [
    "### Portfolio constraints\n",
    "\n",
    "We can now compute the tangent portfolio with portfolio constrints. Let us start with no short-selling constraints, i.e., the weights can be anywhere between 0 (lower bound) and 1 (upper bound)."
   ]
  },
  {
   "cell_type": "code",
   "execution_count": null,
   "id": "4f22ef00-8b98-4230-b437-154fe8a50d20",
   "metadata": {},
   "outputs": [],
   "source": [
    "noshortSpec <- portfolioSpec()\n",
    "noshorttgPort <- tangencyPortfolio(data = data_eret, spec = noshortSpec, constraints = \"LongOnly\")\n",
    "print(getWeights(noshorttgPort))\n",
    "port_stats <- c(getTargetReturn(noshorttgPort)['mean'], getTargetRisk(noshorttgPort)['Sigma'], 0)\n",
    "port_stats[3] <- port_stats[1] / port_stats[2]\n",
    "names(port_stats) <- c('Avg(e-ret)', 'Std(e-ret)', 'Sharpe ratio')\n",
    "print(port_stats)"
   ]
  },
  {
   "cell_type": "markdown",
   "id": "ee498c1f-c6cf-4f43-a0aa-1062d0bdaca3",
   "metadata": {},
   "source": [
    "Now we will specify portfolio constraints for each asset separaterly. The default values are 0 for lower bounds and 1 for upper bounds. If constraints are not set the bounds are the default ones."
   ]
  },
  {
   "cell_type": "code",
   "execution_count": null,
   "id": "e54d766c-3b8c-40bc-a9b1-df3be567bb3e",
   "metadata": {},
   "outputs": [],
   "source": [
    "port_minW <- \"minW[1:6] = 0.1\"                    #set all minimum weights to 0.1\n",
    "port_maxW <- \"maxW[c(1,5,6)] = c(0.5, 0.6, 0.7)\"  #set max weights of assets 1, 5, and 6 to 0.5, 0.6, and 0.7, respectively\n",
    "portConstraints <- c(port_minW, port_maxW)\n",
    "portSpec <- portfolioSpec()\n",
    "tgPort <- tangencyPortfolio(data = data_eret, spec = portSpec, constraints = portConstraints)\n",
    "print(getWeights(tgPort))"
   ]
  },
  {
   "cell_type": "markdown",
   "id": "a2200f25-e254-4d64-a161-af0d9ab1151c",
   "metadata": {},
   "source": [
    "## 4. Target mean or volatility"
   ]
  },
  {
   "cell_type": "markdown",
   "id": "f5f89a72-ebbb-4aa1-8c45-b1294a7875a0",
   "metadata": {},
   "source": [
    "If we want to find the efficient mean-variance portfolio for a target mean and volatility, the procedure depends on whether we have a risk-free rate or not. If there is a risk-free rate then the first step is to obtain the tangent portfolio. The second step is to scale up (leverage) or down the tangent portfolio to obtain either the target mean\n",
    "$$ l = \\frac{\\mu_{target} - r_f}{\\mu_{tangent} - r_f}$$\n",
    "or the target volatility\n",
    "$$ l = \\frac{\\sigma_{target}}{\\sigma_{tangent}}$$\n",
    "The portfolio weights will then be $1-l$ in the risk-free rate and $l$ in the tangent portfolio.\n",
    "\n",
    "However, in the case where we do not have a risk-free rate, then we need to use the function 'efficientPortfolio'. In the example below we will assume no short-selling constraint. The target return should be the target excess return if we are providing excess returns, while the risk-free rate should be left at zero."
   ]
  },
  {
   "cell_type": "code",
   "execution_count": null,
   "id": "e0857e55-6a7b-4a86-8342-5a2e2790c46f",
   "metadata": {},
   "outputs": [],
   "source": [
    "portSpec <- portfolioSpec()\n",
    "setTargetReturn(portSpec) <- 0.5\n",
    "targetPort <- efficientPortfolio(data = data_eret, spec = portSpec, constraints = \"LongOnly\")\n",
    "w <- getWeights(targetPort)\n",
    "print(w)\n",
    "\n",
    "port_stats <- c(getTargetReturn(targetPort)['mean'], getTargetRisk(targetPort)['Sigma'], 0)\n",
    "port_stats[3] <- port_stats[1] / port_stats[2]\n",
    "names(port_stats) <- c('Avg(e-ret)', 'Std(e-ret)', 'Sharpe ratio')\n",
    "print(port_stats)"
   ]
  },
  {
   "cell_type": "markdown",
   "id": "723be94d-19c2-403e-8cd6-0809ca6c6e36",
   "metadata": {},
   "source": [
    "The optimization to find a portfolio for a target risk does not seem to work. Instead we can search using the mean targeted portfolios."
   ]
  },
  {
   "cell_type": "code",
   "execution_count": null,
   "id": "311d481d-5df0-42b0-a309-9054c7667b26",
   "metadata": {},
   "outputs": [],
   "source": [
    "targetvol <- 2.5              #target risk\n",
    "targetmean <- 0.5             #initial target mean\n",
    "\n",
    "#compute error of intial target mean\n",
    "portSpec <- portfolioSpec()\n",
    "setTargetReturn(portSpec) <- targetmean\n",
    "targetPort <- efficientPortfolio(data = data_eret, spec = portSpec, constraints = \"LongOnly\")\n",
    "error <- targetvol - getTargetRisk(targetPort)['Sigma']\n",
    "\n",
    "#loop until it gets close enough to the target risk\n",
    "while (abs(error) > 0.001) {\n",
    "    #update targetmean in the direction of the error\n",
    "    targetmean <- targetmean + 0.1*error\n",
    "    \n",
    "    #compute new error\n",
    "    setTargetReturn(portSpec) <- targetmean\n",
    "    targetPort <- efficientPortfolio(data = data_eret, spec = portSpec, \n",
    "                                     constraints = \"LongOnly\")\n",
    "    error <- targetvol - getTargetRisk(targetPort)['Sigma']\n",
    "}\n",
    "\n",
    "w <- getWeights(targetPort)\n",
    "print(w)\n",
    "port_stats <- c(getTargetReturn(targetPort)['mean'], getTargetRisk(targetPort)['Sigma'], 0)\n",
    "port_stats[3] <- port_stats[1] / port_stats[2]\n",
    "names(port_stats) <- c('Avg(e-ret)', 'Std(e-ret)', 'Sharpe ratio')\n",
    "print(port_stats)"
   ]
  },
  {
   "cell_type": "markdown",
   "id": "cc65734c-3c62-45b4-9d80-eec11376c755",
   "metadata": {},
   "source": [
    "## Frontiers\n",
    "Now let us plot the efficient frontiers with no short-selling constraints. Other frontiers can be plotted in a similar way. Below we use the function 'tailoredFrontierPlot' that adds several plots."
   ]
  },
  {
   "cell_type": "code",
   "execution_count": null,
   "id": "7b81be8d-0f7c-4a56-9294-5cd185736a2c",
   "metadata": {},
   "outputs": [],
   "source": [
    "#noshortSpec created earlier\n",
    "noshortFront <- portfolioFrontier(data = data_eret, spec = noshortSpec, constraints = \"LongOnly\")\n",
    "tailoredFrontierPlot(noshortFront, risk = \"Sigma\", sharpeRatio = FALSE, title = TRUE)"
   ]
  },
  {
   "cell_type": "markdown",
   "id": "fb153859-aed5-41b8-9a7b-0c6a9d257652",
   "metadata": {},
   "source": [
    "There are also functions to add frontiers one by one. Let us plot the constrained (no short selling) and unconstrained efficient frontiers side by side, with and without risk-free rate."
   ]
  },
  {
   "cell_type": "code",
   "execution_count": null,
   "id": "5ade9587-1714-4882-a6c3-2363265f2379",
   "metadata": {},
   "outputs": [],
   "source": [
    "frontierPlot(noshortFront, risk = \"Sigma\", title = TRUE)\n",
    "\n",
    "#frontierPlot(object, frontier = c(\"both\", \"lower\", \"upper\"),\n",
    "#    col = c(\"black\", \"grey\"), add = FALSE, labels = TRUE,\n",
    "#    return = c(\"mean\", \"mu\"), risk = c(\"Cov\", \"Sigma\", \"CVaR\", \"VaR\"),\n",
    "#    auto = TRUE, title = TRUE, …) \n",
    "\n",
    "#shortSpec created earlier\n",
    "shortFront <- portfolioFrontier(data = data_eret, spec = shortSpec)\n",
    "frontierPlot(shortFront, risk = \"Sigma\", title = TRUE, add = TRUE)\n",
    "\n",
    "#add tangent lines and assets\n",
    "tangencyLines(shortFront, risk = \"Sigma\", col = \"blue\")\n",
    "tangencyLines(noshortFront, risk = \"Sigma\", col = \"darkgreen\")\n",
    "singleAssetPoints(shortFront, risk = \"Sigma\", col = \"red\")\n"
   ]
  }
 ],
 "metadata": {
  "kernelspec": {
   "display_name": "Python 3 (ipykernel)",
   "language": "python",
   "name": "python3"
  },
  "language_info": {
   "codemirror_mode": {
    "name": "ipython",
    "version": 3
   },
   "file_extension": ".py",
   "mimetype": "text/x-python",
   "name": "python",
   "nbconvert_exporter": "python",
   "pygments_lexer": "ipython3",
   "version": "3.9.12"
  }
 },
 "nbformat": 4,
 "nbformat_minor": 5
}
